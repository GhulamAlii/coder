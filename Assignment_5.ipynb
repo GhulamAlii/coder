{
 "cells": [
  {
   "cell_type": "code",
   "execution_count": 1,
   "metadata": {},
   "outputs": [
    {
     "data": {
      "text/plain": [
       "120"
      ]
     },
     "execution_count": 1,
     "metadata": {},
     "output_type": "execute_result"
    }
   ],
   "source": [
    "#Q1 \n",
    "\n",
    "def fun_factorial(num):\n",
    "    result=1\n",
    "    for i in range(1,num + 1):\n",
    "        result=result * i\n",
    "    return result\n",
    "    \n",
    "\n",
    "fun_factorial(5)\n"
   ]
  },
  {
   "cell_type": "code",
   "execution_count": 2,
   "metadata": {},
   "outputs": [
    {
     "name": "stdout",
     "output_type": "stream",
     "text": [
      "upper later are 2 and lower letter are 7\n"
     ]
    }
   ],
   "source": [
    "#Q2\n",
    "def case_finder(word=str()):\n",
    "    up=0\n",
    "    low=0\n",
    "    for i in word:\n",
    "        if i == i.upper():\n",
    "            up+=1\n",
    "        else:\n",
    "            low+=1\n",
    "    a=str(up)\n",
    "    b=str(low)\n",
    "    result=print(\"upper later are {} and lower letter are {}\".format(a,b))\n",
    "    return result\n",
    "\n",
    "case_finder(\"GhulamAli\")\n",
    "\n",
    "  "
   ]
  },
  {
   "cell_type": "code",
   "execution_count": 3,
   "metadata": {},
   "outputs": [
    {
     "name": "stdout",
     "output_type": "stream",
     "text": [
      "the 23 is a odd number\n",
      "the 20 is a even number\n",
      "the 30 is a even number\n",
      "the 45 is a odd number\n",
      "the 35 is a odd number\n",
      "the 76 is a even number\n"
     ]
    }
   ],
   "source": [
    "#Q3\n",
    "\n",
    "def even_num(num=[]):\n",
    "    for i in num:\n",
    "        if i%2==0:\n",
    "            print(\"the {} is a even number\".format(i))\n",
    "        else:\n",
    "            print(\"the {} is a odd number\".format(i))\n",
    "            \n",
    "            \n",
    "even_num([23,20,30,45,35,76])"
   ]
  },
  {
   "cell_type": "code",
   "execution_count": 4,
   "metadata": {},
   "outputs": [
    {
     "name": "stdout",
     "output_type": "stream",
     "text": [
      "given word madam--madam\n",
      "your given word are palindrom\n",
      " \n",
      "given word ali--ila\n",
      "your given word are not palindrom\n",
      " \n"
     ]
    }
   ],
   "source": [
    "#Q4\n",
    "\n",
    "def palindrom_finder(word):\n",
    "    a=word\n",
    "    b=a[::-1] \n",
    "    if word == b:\n",
    "        print(\"given word {}--{}\\nyour given word are palindrom\\n \".format(a,b))\n",
    "    else:\n",
    "         print(\"given word {}--{}\\nyour given word are not palindrom\\n \".format(a,b))\n",
    "palindrom_finder(\"madam\")\n",
    "palindrom_finder(\"ali\")"
   ]
  },
  {
   "cell_type": "code",
   "execution_count": 7,
   "metadata": {},
   "outputs": [
    {
     "name": "stdout",
     "output_type": "stream",
     "text": [
      "28 is not a prime number\n",
      "3 is a prime number\n"
     ]
    }
   ],
   "source": [
    "#Q5\n",
    "def Prime(num): \n",
    "    if num > 1:\n",
    "        for i in range(2,num):\n",
    "            if (num % i) == 0:\n",
    "                print(num,\"is not a prime number\")\n",
    "                break\n",
    "            else:\n",
    "                print(num,\"is a prime number\")\n",
    "                break\n",
    "    else:\n",
    "        print(num,\"is not a prime number\")\n",
    "\n",
    "Prime(28)\n",
    "Prime(3)"
   ]
  },
  {
   "cell_type": "code",
   "execution_count": 15,
   "metadata": {},
   "outputs": [
    {
     "name": "stdout",
     "output_type": "stream",
     "text": [
      "your item list is:\n",
      " vegitables\n",
      "your item list is:\n",
      " fruits\n",
      "your item list is:\n",
      " meat\n"
     ]
    }
   ],
   "source": [
    "#Q6\n",
    "def item(*word):\n",
    "    for i in word:\n",
    "        print(\"your item list is:\\n\",i)\n",
    "\n",
    "item(\"vegitables\",\"fruits\",\"meat\")"
   ]
  }
 ],
 "metadata": {
  "kernelspec": {
   "display_name": "Python 3",
   "language": "python",
   "name": "python3"
  },
  "language_info": {
   "codemirror_mode": {
    "name": "ipython",
    "version": 3
   },
   "file_extension": ".py",
   "mimetype": "text/x-python",
   "name": "python",
   "nbconvert_exporter": "python",
   "pygments_lexer": "ipython3",
   "version": "3.7.4"
  }
 },
 "nbformat": 4,
 "nbformat_minor": 2
}
