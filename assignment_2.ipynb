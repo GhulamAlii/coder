{
 "cells": [
  {
   "cell_type": "code",
   "execution_count": 1,
   "metadata": {},
   "outputs": [
    {
     "name": "stdout",
     "output_type": "stream",
     "text": [
      "Type your 1 subject marks out of 100: 75\n",
      "Type your 1 subject marks out of 100: 80\n",
      "Type your 1 subject marks out of 100: 67\n",
      "Type your 1 subject marks out of 100: 84\n",
      "Type your 1 subject marks out of 100: 83\n",
      "your total marks is: 389 out of 500\n",
      "your per% is: 77.8% out of 100%\n",
      "your grade is : A Congratulations!\n"
     ]
    }
   ],
   "source": [
    "#Q1\n",
    "                        #input struct#\n",
    "sub1 = int(input(\"Type your 1 subject marks out of 100: \"))\n",
    "sub2 = int(input(\"Type your 1 subject marks out of 100: \"))\n",
    "sub3 = int(input(\"Type your 1 subject marks out of 100: \"))\n",
    "sub4 = int(input(\"Type your 1 subject marks out of 100: \"))\n",
    "sub5 = int(input(\"Type your 1 subject marks out of 100: \"))\n",
    "\n",
    "                        #calculation process#\n",
    "total = sub1+sub2+sub3+sub4+sub5\n",
    "print(\"your total marks is: \"+str(total)+\" out of 500\")\n",
    "per = float(total/500*100)\n",
    "print(\"your per% is: \"+str(per)+\"% out of 100%\")\n",
    "\n",
    "                        #grading code#\n",
    "\n",
    "if per >= 80 and per <=100:\n",
    "    print(\"your grade is : A+ Congratulations!\")\n",
    "elif per >=70 and per <=80:\n",
    "    print(\"your grade is : A Congratulations!\")\n",
    "elif per >=60 and per <=70:\n",
    "    print(\"your grade is : B Congratulations!\")\n",
    "elif per >=50 and per <=60:\n",
    "    print(\"your grade is : C\" )\n",
    "elif per >=40 and per <=50:\n",
    "    print(\"your grade is : D\" )\n",
    "elif per <40:\n",
    "    print(\"your grade is : F\")\n",
    "else:\n",
    "    print(\"you entered a wrong percentail\")\n"
   ]
  },
  {
   "cell_type": "code",
   "execution_count": 5,
   "metadata": {},
   "outputs": [
    {
     "name": "stdout",
     "output_type": "stream",
     "text": [
      "type your number: 65\n",
      "your number 65 is odd\n"
     ]
    }
   ],
   "source": [
    "#q2\n",
    "\n",
    "in1 = int(input(\"type your number: \"))\n",
    "\n",
    "if in1%2==0:\n",
    "    print(\"your number \"+str(in1)+\" is even\")\n",
    "else:\n",
    "    print(\"your number \"+str(in1)+\" is odd\")"
   ]
  },
  {
   "cell_type": "code",
   "execution_count": 7,
   "metadata": {},
   "outputs": [
    {
     "name": "stdout",
     "output_type": "stream",
     "text": [
      "the length of the list is 5\n"
     ]
    }
   ],
   "source": [
    "#Q3\n",
    "arr =[\"ali\",2,4,\"karachi\",23.4]\n",
    "print(\"the length of the list is\",len(arr))\n"
   ]
  },
  {
   "cell_type": "code",
   "execution_count": 15,
   "metadata": {},
   "outputs": [
    {
     "name": "stdout",
     "output_type": "stream",
     "text": [
      "he sum of the list is:  188\n"
     ]
    }
   ],
   "source": [
    "#Q4\n",
    "\n",
    "x = [43,23,32,43,47]\n",
    "print(\"he sum of the list is: \",sum(x))\n"
   ]
  },
  {
   "cell_type": "code",
   "execution_count": 20,
   "metadata": {},
   "outputs": [
    {
     "name": "stdout",
     "output_type": "stream",
     "text": [
      "[4, 3, 4, 2, 1]\n"
     ]
    }
   ],
   "source": [
    "#Q5\n",
    "lis = [4,12,14,3,4,2,85,41,15,5,1]\n",
    "d=[]\n",
    "\n",
    "for i in lis:\n",
    "    if i <5 :\n",
    "        d.append(i)\n",
    "print(d)"
   ]
  },
  {
   "cell_type": "code",
   "execution_count": null,
   "metadata": {},
   "outputs": [],
   "source": []
  }
 ],
 "metadata": {
  "kernelspec": {
   "display_name": "Python 3",
   "language": "python",
   "name": "python3"
  },
  "language_info": {
   "codemirror_mode": {
    "name": "ipython",
    "version": 3
   },
   "file_extension": ".py",
   "mimetype": "text/x-python",
   "name": "python",
   "nbconvert_exporter": "python",
   "pygments_lexer": "ipython3",
   "version": "3.7.4"
  }
 },
 "nbformat": 4,
 "nbformat_minor": 2
}
