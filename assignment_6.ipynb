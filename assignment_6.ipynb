{
 "cells": [
  {
   "cell_type": "markdown",
   "metadata": {},
   "source": [
    "## Question:\n",
    "**Question 1: \n",
    "Define Object Oriented Programming Language?**<br><br>\n",
    "*Ans* ) _**O**bject-**o**riented  **p**rogramming_ (**OOP**) refers to a type of computer programming software design in which programmers define the data type of a data structure, and also the types of operations functions that can be applied to the data structure."
   ]
  },
  {
   "cell_type": "markdown",
   "metadata": {},
   "source": [
    "<hr>\n",
    "\n",
    "## Question :\n",
    "**Question 2 :\n",
    "\tList down the Benefits of OOP?**<br><br>\n",
    "*Ans* ) *There are the some benefit of* ***OBJECT ORIENTED PROGRAMMING*** (**OOP**)\n",
    "<br>\n",
    " - ***Re-usability :***<br>\n",
    " It means reusing some facilities rather than building it again and again.\n",
    " \n",
    " <br>\n",
    " \n",
    " - ***Code Maintenance :***<br>\n",
    " it helps users from doing re-work in many ways. It is always easy and time-saving to maintain and modify the existing codes with incorporating new changes into it.<br>\n",
    "<br>\n",
    " -  ***Security :***<br>\n",
    "With the use of data hiding and abstraction mechanism, we are filtering out limited data to exposure which means we are maintaining security and providing necessary data to view.\n"
   ]
  },
  {
   "cell_type": "markdown",
   "metadata": {},
   "source": [
    "<hr>\n",
    "\n",
    "## Question :\n",
    "**Question 3 :\n",
    "\tDifferentiate between function and method?** <br>\n",
    "*Ans* ) <br>\n",
    "\n",
    "### FUNCTIONS:\n",
    "<br>\n",
    "A function is a piece of code that is called by name. It can be passed data to operate on (i.e. the parameters) and can optionally return data (the return value).<br>\n",
    "\n",
    "### METHODS:\n",
    "<br>\n",
    "A method is a piece of code that is called by a name that is associated with an object."
   ]
  },
  {
   "cell_type": "markdown",
   "metadata": {},
   "source": [
    "***\n",
    "\n",
    "## Question :\n",
    "**Question 4 :\n",
    "\tDefine the following terms:** <br>\n",
    "*Ans* ) <br>\n",
    "<br>\n",
    " 1. **CLASS :**\n",
    " <br><br>\n",
    " A category of objects. The class defines all the common properties of the different objects that belong to it.\n",
    " <BR><br>\n",
    " 2. **OBJECTS**\n",
    "<br><br>\n",
    "Object is a self-contained entity that consists of both data and procedures to manipulate the data.\n",
    "<br><br>\n",
    " 3. **ATTRIBUTES**\n",
    "<br><br>\n",
    " An instance/object attribute is a variable that belongs to one  object. Every instance of a **class** points to its own attributes variables\n",
    " <br><br>\n",
    " 4. **BEHAVIOR**\n",
    " <br><br>\n",
    " Objects in Python are generally classified according to their behaviors and the features that they implement.\n"
   ]
  },
  {
   "cell_type": "code",
   "execution_count": 6,
   "metadata": {},
   "outputs": [
    {
     "name": "stdout",
     "output_type": "stream",
     "text": [
      " The car name is: Aventador\n",
      " the Modal was: 2017\n",
      " the color is: Red\n",
      " it manufactured by: Lamborghini\n",
      "\n",
      "the car is Civic\n"
     ]
    }
   ],
   "source": [
    "class Car:\n",
    "    def __init__(self,name,modal,color,company):\n",
    "        self.name = name\n",
    "        self.modal = modal\n",
    "        self.color = color\n",
    "        self.company = company\n",
    "        \n",
    "    def detail(self):\n",
    "        print(\" The car name is: {}\\n the Modal was: {}\\n the color is: {}\\n it manufactured by: {}\".format(self.name,self.modal,self.color,self.company))\n",
    "        \n",
    "    def upd_color(self,color):\n",
    "        self.color=color\n",
    "        \n",
    "car_1 = Car(\"Civic\",\"2018\",\"White\",\"Honda\")\n",
    "car_2 = Car(\"Corolla\",\"2019\",\"black\",\"Toyata\")\n",
    "car_3 = Car(\"Aventador\",\"2017\",\"Red\",\"Lamborghini\")\n",
    "car_4 = Car(\"Roma\",\"2018\",\"Red\",\"Ferrari\")\n",
    "car_5 = Car(\"Huracon Eva\",\"2018\",\"Blue\",\"Lamborghini\")\n",
    "\n",
    "Car.detail(car_3)\n",
    "print(\"\\nthe car is\",car_1.name)"
   ]
  },
  {
   "cell_type": "code",
   "execution_count": null,
   "metadata": {},
   "outputs": [],
   "source": []
  }
 ],
 "metadata": {
  "kernelspec": {
   "display_name": "Python 3",
   "language": "python",
   "name": "python3"
  },
  "language_info": {
   "codemirror_mode": {
    "name": "ipython",
    "version": 3
   },
   "file_extension": ".py",
   "mimetype": "text/x-python",
   "name": "python",
   "nbconvert_exporter": "python",
   "pygments_lexer": "ipython3",
   "version": "3.7.4"
  }
 },
 "nbformat": 4,
 "nbformat_minor": 2
}
