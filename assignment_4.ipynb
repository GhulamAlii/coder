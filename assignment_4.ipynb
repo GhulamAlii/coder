{
 "cells": [
  {
   "cell_type": "code",
   "execution_count": 1,
   "metadata": {},
   "outputs": [
    {
     "name": "stdout",
     "output_type": "stream",
     "text": [
      "the User is aliyan ahmed and age is 18\twho live in karachi\n",
      "the User is aliyan ahmed and age is 18\twho live in karachi and the qulification is matric\n",
      "the User is aliyan ahmed and age is 18\twho live in karachi and the qulification is Bsc\n",
      "{'first_name': 'aliyan', 'last_name': 'ahmed', 'age': 18, 'city': 'karachi'}\n"
     ]
    }
   ],
   "source": [
    "#q1\n",
    "                    #person_information#\n",
    "    \n",
    "person_info={\n",
    "    \"first_name\":\"aliyan\",\n",
    "    \"last_name\":\"ahmed\",\n",
    "    \"age\":18,\n",
    "    \"city\":\"karachi\"\n",
    "}\n",
    "\n",
    "print(\"the User is \"+person_info[\"first_name\"]+\" \"+person_info[\"last_name\"]+\" \"+\"and age is \"+str(person_info[\"age\"])+\"\\twho live in \"+person_info[\"city\"])\n",
    "\n",
    "person_info.update({\"qulification\":\"matric\"})\n",
    "\n",
    "print(\"the User is \"+person_info[\"first_name\"]+\" \"+person_info[\"last_name\"]+\" \"+\"and age is \"+str(person_info[\"age\"])+\"\\twho live in \"+person_info[\"city\"]+\" and the qulification is \"+person_info[\"qulification\"])\n",
    "\n",
    "person_info[\"qulification\"]=\"Bsc\"\n",
    "\n",
    "print(\"the User is \"+person_info[\"first_name\"]+\" \"+person_info[\"last_name\"]+\" \"+\"and age is \"+str(person_info[\"age\"])+\"\\twho live in \"+person_info[\"city\"]+\" and the qulification is \"+person_info[\"qulification\"])\n",
    "\n",
    "del person_info[\"qulification\"]\n",
    "print(person_info)"
   ]
  },
  {
   "cell_type": "code",
   "execution_count": 2,
   "metadata": {},
   "outputs": [
    {
     "name": "stdout",
     "output_type": "stream",
     "text": [
      "\t\t----karachi----\n",
      "1.Country name:\n",
      "\tPakistan\n",
      "2.Population:\n",
      "\t15,741,406\n",
      "3.Fact:\n",
      "\tKarachi is the largest city and is also the center of banking, trade, and industry in Pakistan\n",
      "Karachi’s history is strongly related to Alexander the Great of Macedonia. It is known as the place where the conqueror stayed before going to Babylonia.\n",
      "\n",
      "\n",
      "\t\t----Paris----\n",
      "1.Country name:\n",
      "\tFrance\n",
      "2.Population:\n",
      "\t2,500,000\n",
      "3.Fact:\n",
      "\tthat tourists visit every year.It is located next to the Seine River and is known world-wide as the “City of Lights”\n",
      "because it is truly transformed at night when the lights turn on. Paris is also called the most romantic city in the world\n",
      "\n",
      "\t\t----Mecca----\n",
      "1.Country name:\n",
      "\tSaudi Arabia\n",
      "2.Population:\n",
      "\t2,004,888\n",
      "3.Fact:\n",
      "\tMecca, also called Makkah, is a city in Saudi Arabia. It is the holiest city in Islam\n",
      "Muslims believe that it is very important to visit Mecca at least once in their lives.\n",
      "It is very interesting to note that almost three million Muslims pay visit to this city every year.\n",
      "\n"
     ]
    }
   ],
   "source": [
    "cities={\n",
    "    \"karachi\":{\n",
    "        \"country\":\"Pakistan\",\n",
    "        \"population\":\"15,741,406\" ,\n",
    "        \"fact\":\"Karachi is the largest city and is also the center of banking, trade, and industry in Pakistan\\nKarachi’s history is strongly related to Alexander the Great of Macedonia. It is known as the place where the conqueror stayed before going to Babylonia.\\n\",\n",
    "    },\n",
    "    \"Paris\":{\n",
    "        \"country\":\"France\",\n",
    "        \"population\":\"2,500,000\",\n",
    "        \"fact\":\"that tourists visit every year.It is located next to the Seine River and is known world-wide as the “City of Lights”\\nbecause it is truly transformed at night when the lights turn on. Paris is also called the most romantic city in the world\",\n",
    "    },\n",
    "    \"Mecca\":{\n",
    "        \"country\":\"Saudi Arabia\",\n",
    "        \"population\":\"2,004,888\",\n",
    "        \"fact\":\"Mecca, also called Makkah, is a city in Saudi Arabia. It is the holiest city in Islam\\nMuslims believe that it is very important to visit Mecca at least once in their lives.\\nIt is very interesting to note that almost three million Muslims pay visit to this city every year.\",\n",
    "    }\n",
    "\n",
    "}\n",
    "print(\"\\t\\t----karachi----\\n1.Country name:\\n\\t\"+cities[\"karachi\"][\"country\"]+\"\\n2.Population:\\n\\t\"+cities[\"karachi\"][\"population\"]+\"\\n3.Fact:\\n\\t\"+cities[\"karachi\"][\"fact\"]+\"\\n\")\n",
    "print(\"\\t\\t----Paris----\\n1.Country name:\\n\\t\"+cities[\"Paris\"][\"country\"]+\"\\n2.Population:\\n\\t\"+cities[\"Paris\"][\"population\"]+\"\\n3.Fact:\\n\\t\"+cities[\"Paris\"][\"fact\"]+\"\\n\")\n",
    "print(\"\\t\\t----Mecca----\\n1.Country name:\\n\\t\"+cities[\"Mecca\"][\"country\"]+\"\\n2.Population:\\n\\t\"+cities[\"Mecca\"][\"population\"]+\"\\n3.Fact:\\n\\t\"+cities[\"Mecca\"][\"fact\"]+\"\\n\")"
   ]
  },
  {
   "cell_type": "code",
   "execution_count": 7,
   "metadata": {},
   "outputs": [
    {
     "name": "stdout",
     "output_type": "stream",
     "text": [
      "please enter How many people are with you \n",
      "4\n",
      "Enter the age of ticket owner please\n",
      "18\n",
      "your ticket cost is 15$\n",
      "\n",
      "Enter the age of ticket owner please\n",
      "9\n",
      "your ticket cost is 10$\n",
      "\n",
      "Enter the age of ticket owner please\n",
      "2\n",
      "those children who are under age have totally free entry..\n",
      "\n",
      "Enter the age of ticket owner please\n",
      "23\n",
      "your ticket cost is 15$\n",
      "\n",
      "enjoy the movie..\n"
     ]
    }
   ],
   "source": [
    "inp=int(input(\"please enter How many people are with you \\n\"))\n",
    "in2=0\n",
    "while in2<inp:\n",
    "    user_age=int(input(\"Enter the age of ticket owner please\\n\"))\n",
    "    if user_age>0 and user_age<3:\n",
    "        print(\"those children who are under age have totally free entry..\\n\")\n",
    "    elif user_age>=3 and user_age<=12:\n",
    "        print(\"your ticket cost is 10$\\n\")\n",
    "    elif user_age>12:\n",
    "        print(\"your ticket cost is 15$\\n\")\n",
    "    else:\n",
    "        print(\"you entered a invalid age\\n\")\n",
    "    in2=in2+1\n",
    "print(\"enjoy the movie..\")\n"
   ]
  },
  {
   "cell_type": "code",
   "execution_count": 16,
   "metadata": {},
   "outputs": [
    {
     "name": "stdout",
     "output_type": "stream",
     "text": [
      "write the one of you favorite book: The Theory Of Every thing\n",
      "The Theory Of Every thing Wow this book is so great\n"
     ]
    }
   ],
   "source": [
    "def favorite_book(title):\n",
    "    print(\"{} Wow this book is so great\".format(title))\n",
    "\n",
    "x=input(\"write the one of you favorite book: \")\n",
    "favorite_book(x)"
   ]
  },
  {
   "cell_type": "code",
   "execution_count": 1,
   "metadata": {},
   "outputs": [
    {
     "name": "stdout",
     "output_type": "stream",
     "text": [
      "hello! wellcome to my Guess game \n",
      "whats your name: ghulam ali\n",
      "Nice name ghulam ali Now let start the game\n",
      "Now ghulam ali i will thinking the number between 1 to 30 \n",
      "Now guess my selected number\n",
      "what your guess number\n",
      "25\n",
      "ohh your guess number is smaller then the hidden number\n",
      "what your guess number\n",
      "26\n",
      "Wow your Guess is so correct  ghulam ali\n"
     ]
    }
   ],
   "source": [
    "import random\n",
    "\n",
    "print(\"hello! wellcome to my Guess game \")\n",
    "name=input(\"whats your name: \")\n",
    "print(\"Nice name \"+name+\" Now let start the game\")\n",
    "print(\"Now \"+name+\" i will thinking the number between 1 to 30 \")\n",
    "print(\"Now guess my selected number\")\n",
    "my_guess=random.randint(1,30)\n",
    "\n",
    "chance=0\n",
    "\n",
    "while chance < 3:\n",
    "    print(\"what your guess number\")\n",
    "    user_guess=int(input())\n",
    "    chance=chance+1\n",
    "    if user_guess>my_guess:\n",
    "        print(\"ohh your guess number is greater then the hidden number\")\n",
    "    if user_guess<my_guess:\n",
    "        print(\"ohh your guess number is smaller then the hidden number\")\n",
    "    if user_guess==my_guess:\n",
    "        break\n",
    "\n",
    "if user_guess==my_guess:\n",
    "    print(\"Wow your Guess is so correct \",name)\n",
    "if user_guess!=my_guess:\n",
    "    print(\"Nice try \"+name+\" wou will be guess correct answer next time :)\")\n",
    "    \n",
    "    "
   ]
  },
  {
   "cell_type": "code",
   "execution_count": null,
   "metadata": {},
   "outputs": [],
   "source": []
  },
  {
   "cell_type": "code",
   "execution_count": null,
   "metadata": {},
   "outputs": [],
   "source": []
  },
  {
   "cell_type": "code",
   "execution_count": null,
   "metadata": {},
   "outputs": [],
   "source": []
  },
  {
   "cell_type": "code",
   "execution_count": null,
   "metadata": {},
   "outputs": [],
   "source": []
  }
 ],
 "metadata": {
  "kernelspec": {
   "display_name": "Python 3",
   "language": "python",
   "name": "python3"
  },
  "language_info": {
   "codemirror_mode": {
    "name": "ipython",
    "version": 3
   },
   "file_extension": ".py",
   "mimetype": "text/x-python",
   "name": "python",
   "nbconvert_exporter": "python",
   "pygments_lexer": "ipython3",
   "version": "3.7.4"
  }
 },
 "nbformat": 4,
 "nbformat_minor": 2
}
