{
 "cells": [
  {
   "cell_type": "code",
   "execution_count": 2,
   "metadata": {},
   "outputs": [
    {
     "name": "stdout",
     "output_type": "stream",
     "text": [
      "twinkle, twinkle, little, star,\n",
      "    how i wonder what you are!\n",
      "       up above the world so high,\n",
      "       like the diamond in the sky,\n",
      "twinkle, twinkle, little, star,\n",
      "    how i wonder what you are\n"
     ]
    }
   ],
   "source": [
    "#Q1\n",
    "\n",
    "print(\"twinkle, twinkle, little, star,\\n    how i wonder what you are!\\n       up above the world so high,\\n       like the diamond in the sky,\")\n",
    "print(\"twinkle, twinkle, little, star,\\n    how i wonder what you are\")"
   ]
  },
  {
   "cell_type": "code",
   "execution_count": 3,
   "metadata": {},
   "outputs": [
    {
     "name": "stdout",
     "output_type": "stream",
     "text": [
      "this is the version of python you using :\n",
      "3.7.4 (default, Aug  9 2019, 18:34:13) [MSC v.1915 64 bit (AMD64)]\n"
     ]
    }
   ],
   "source": [
    "#Q2\n",
    "\n",
    "import sys\n",
    "print(\"this is the version of python you using :\")\n",
    "print (sys.version)"
   ]
  },
  {
   "cell_type": "code",
   "execution_count": 4,
   "metadata": {},
   "outputs": [
    {
     "name": "stdout",
     "output_type": "stream",
     "text": [
      "Current date and time : \n",
      "2019-11-18 22:54:41\n"
     ]
    }
   ],
   "source": [
    "#Q3\n",
    "\n",
    "import datetime\n",
    "now = datetime.datetime.now()\n",
    "print (\"Current date and time : \")\n",
    "print (now.strftime(\"%Y-%m-%d %H:%M:%S\"))"
   ]
  },
  {
   "cell_type": "code",
   "execution_count": 5,
   "metadata": {},
   "outputs": [
    {
     "name": "stdout",
     "output_type": "stream",
     "text": [
      "enter the radius of circle:13\n",
      "the area of a circle is : 530.66\n"
     ]
    }
   ],
   "source": [
    "#Q4\n",
    "\n",
    "radius = int(input(\"enter the radius of circle:\"))\n",
    "area = 3.14*(radius**2)\n",
    "print(\"the area of a circle is :\",area)"
   ]
  },
  {
   "cell_type": "code",
   "execution_count": 6,
   "metadata": {},
   "outputs": [
    {
     "name": "stdout",
     "output_type": "stream",
     "text": [
      "type your first name: Ghulam ali\n",
      "type your last name: ali\n",
      "The original name   is : \n",
      "Ghulam ali ali\n",
      "The reversed name  is : \n",
      "ila ila maluhG\n"
     ]
    }
   ],
   "source": [
    "#Q5\n",
    "\n",
    "name1=input(\"type your first name: \")\n",
    "name2=input(\"type your last name: \")\n",
    "full_name=name1+\" \"+name2\n",
    "def reverse(full_name): \n",
    "    full_name = full_name[::-1] \n",
    "    return full_name \n",
    " \n",
    "print (\"The original name   is : \") \n",
    "print (full_name) \n",
    "  \n",
    "print (\"The reversed name  is : \",) \n",
    "print (reverse(full_name)) "
   ]
  },
  {
   "cell_type": "code",
   "execution_count": 7,
   "metadata": {},
   "outputs": [
    {
     "name": "stdout",
     "output_type": "stream",
     "text": [
      "please enter your first num here: 21\n",
      "please enter your second num here: 9\n",
      "the answer is  30\n"
     ]
    }
   ],
   "source": [
    "#Q6\n",
    "\n",
    "num1 =int(input(\"please enter your first num here: \"))\n",
    "num2 =int(input(\"please enter your second num here: \"))\n",
    "print(\"the answer is \",num1+num2)"
   ]
  },
  {
   "cell_type": "code",
   "execution_count": null,
   "metadata": {},
   "outputs": [],
   "source": []
  }
 ],
 "metadata": {
  "kernelspec": {
   "display_name": "Python 3",
   "language": "python",
   "name": "python3"
  },
  "language_info": {
   "codemirror_mode": {
    "name": "ipython",
    "version": 3
   },
   "file_extension": ".py",
   "mimetype": "text/x-python",
   "name": "python",
   "nbconvert_exporter": "python",
   "pygments_lexer": "ipython3",
   "version": "3.7.4"
  }
 },
 "nbformat": 4,
 "nbformat_minor": 2
}
